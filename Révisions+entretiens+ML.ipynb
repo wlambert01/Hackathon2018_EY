{
 "cells": [
  {
   "cell_type": "markdown",
   "metadata": {},
   "source": [
    "### Descente de Gradient classique / Exemple avec pandas (délimiteurs, décimales , conversion np.list to array)"
   ]
  },
  {
   "cell_type": "code",
   "execution_count": 1,
   "metadata": {
    "collapsed": true
   },
   "outputs": [],
   "source": [
    "import numpy as np\n",
    "X=np.array([[1,1],[2,1]]) \n",
    "intercept=np.ones((2,1))\n",
    "Xnew=np.concatenate((intercept,X),axis=1)\n",
    "Y=np.array([5,7]).reshape(2,1)\n",
    "\n",
    "iter_max=1000\n",
    "eta=0.01\n",
    "\n",
    "# Avec pandas \n",
    "#import pandas as pd\n",
    "#Data=pd.read_csv('Data_sujet6.csv',delimiter=';', decimal='.')\n",
    "#Data.head()\n",
    "#Xnew,Y=Df.drop(\"y\", axis=1).values,Df[\"y\"].copy().values\n",
    "#n,p=Xnew.shape\n",
    "#Xnew=np.concatenate((np.ones((n,1)),Xnew),axis=1)\n",
    "#p+=1\n",
    "#Y=Y.reshape(n,1)"
   ]
  },
  {
   "cell_type": "code",
   "execution_count": 18,
   "metadata": {},
   "outputs": [
    {
     "name": "stdout",
     "output_type": "stream",
     "text": [
      "Vecteur obtenu par Descente de Gradient : \n",
      " [[1.41165137]\n",
      " [2.00070882]\n",
      " [1.58722113]]\n",
      "Verif MSE=: 0.00051\n"
     ]
    }
   ],
   "source": [
    "n,p=Xnew.shape\n",
    "B=np.random.random((p,1))\n",
    "j=0\n",
    "grad= 2*(Xnew.transpose()).dot(Xnew@B-Y)\n",
    "while np.linalg.norm(grad)>=10**-6 and j<iter_max:\n",
    "    B=B-eta*grad\n",
    "    j+=1\n",
    "    grad= 2*(Xnew.transpose())@((Xnew@B)-Y)\n",
    "\n",
    "print(\"Vecteur obtenu par Descente de Gradient : \\n\",B)\n",
    "print(\"Verif MSE=:\",np.round(np.linalg.norm(Y-Xnew@B),5))"
   ]
  },
  {
   "cell_type": "markdown",
   "metadata": {},
   "source": [
    "### Panda Dataframe  manipulation des types string : potentiellement utile !"
   ]
  },
  {
   "cell_type": "code",
   "execution_count": null,
   "metadata": {
    "collapsed": true
   },
   "outputs": [],
   "source": [
    "import pandas as pd\n",
    "\n",
    "Data2=pd.read_csv('Data_sujetReg.csv',sep=';', decimal=';')\n",
    "Data2=Data2.apply(lambda s:s.str.replace('\"', \"\"), axis=1)\n",
    "Data=Data2.apply(lambda s:s.str.replace(';', \".\"),axis=1)\n",
    "Data.astype(float)"
   ]
  },
  {
   "cell_type": "markdown",
   "metadata": {},
   "source": [
    "### Descente de Gradient avec Tensorflow:  manuellement et à l'aide d'un optimizer"
   ]
  },
  {
   "cell_type": "code",
   "execution_count": 20,
   "metadata": {
    "collapsed": true
   },
   "outputs": [],
   "source": [
    "import tensorflow as tf"
   ]
  },
  {
   "cell_type": "code",
   "execution_count": 24,
   "metadata": {},
   "outputs": [
    {
     "data": {
      "text/plain": [
       "array([[1., 2.],\n",
       "       [1., 2.],\n",
       "       [1., 2.]])"
      ]
     },
     "execution_count": 24,
     "metadata": {},
     "output_type": "execute_result"
    }
   ],
   "source": [
    "N=np.hstack((np.ones((3,1)),2*np.ones((3,1))))\n",
    "N"
   ]
  },
  {
   "cell_type": "code",
   "execution_count": 44,
   "metadata": {
    "collapsed": true
   },
   "outputs": [],
   "source": [
    "def reset_graph(seed=42):\n",
    "    tf.reset_default_graph()\n",
    "    tf.set_random_seed(seed)\n",
    "    np.random.seed(seed)\n",
    "reset_graph()\n",
    "\n",
    "n_epochs=1000\n",
    "eta=0.01\n",
    "m=3\n",
    "X_=np.array([[1,2,3],[2,-1,8],[3,3,1]])\n",
    "X=tf.constant(np.hstack((np.ones((3,1)),X_)),dtype=tf.float32,name='X')\n",
    "Y=tf.constant(np.array([3,6,9]).reshape(-1,1),dtype=tf.float32,name='Y')\n",
    "theta=tf.Variable(tf.random_uniform([4,1],-1,1),name='theta')\n",
    "y_pred=tf.matmul(X,theta,name='y_pred')\n",
    "error=y_pred-Y\n",
    "mse=tf.reduce_mean(tf.square(error),name='mse')\n",
    "gradient=2/m*tf.matmul(tf.transpose(X),error)\n",
    "training_op=tf.assign(theta,theta-eta*gradient)\n",
    "\n",
    "init=tf.global_variables_initializer()\n",
    "with tf.Session() as sess:\n",
    "    sess.run(init)\n",
    "    for epoch in range(n_epochs):\n",
    "        sess.run(training_op)\n",
    "    best_theta=theta.eval()\n",
    "        \n",
    "\n"
   ]
  },
  {
   "cell_type": "code",
   "execution_count": 47,
   "metadata": {},
   "outputs": [
    {
     "data": {
      "text/plain": [
       "array([[-0.7528587 ],\n",
       "       [ 3.0161936 ],\n",
       "       [ 0.19651629],\n",
       "       [ 0.11461612]], dtype=float32)"
      ]
     },
     "execution_count": 47,
     "metadata": {},
     "output_type": "execute_result"
    }
   ],
   "source": [
    "best_theta"
   ]
  },
  {
   "cell_type": "markdown",
   "metadata": {},
   "source": [
    "### Autodifférenciation sous tensorflow d'un noeud operation ( z=f(tf.Var),  z=tf.const @ tf.Var,... )"
   ]
  },
  {
   "cell_type": "code",
   "execution_count": 55,
   "metadata": {
    "collapsed": true
   },
   "outputs": [
    {
     "ename": "NameError",
     "evalue": "name 'operation' is not defined",
     "output_type": "error",
     "traceback": [
      "\u001b[0;31m---------------------------------------------------------------------------\u001b[0m",
      "\u001b[0;31mNameError\u001b[0m                                 Traceback (most recent call last)",
      "\u001b[0;32m<ipython-input-55-b888d2f6101c>\u001b[0m in \u001b[0;36m<module>\u001b[0;34m()\u001b[0m\n\u001b[0;32m----> 1\u001b[0;31m \u001b[0mgrads\u001b[0m \u001b[0;34m=\u001b[0m \u001b[0mtf\u001b[0m\u001b[0;34m.\u001b[0m\u001b[0mgradients\u001b[0m\u001b[0;34m(\u001b[0m\u001b[0moperation\u001b[0m\u001b[0;34m,\u001b[0m \u001b[0;34m[\u001b[0m\u001b[0mx\u001b[0m\u001b[0;34m,\u001b[0m \u001b[0my\u001b[0m\u001b[0;34m]\u001b[0m\u001b[0;34m)\u001b[0m   \u001b[0;31m# noeud gradient calculé automatiquement\u001b[0m\u001b[0;34m\u001b[0m\u001b[0;34m\u001b[0m\u001b[0m\n\u001b[0m\u001b[1;32m      2\u001b[0m \u001b[0;32mwith\u001b[0m \u001b[0mtf\u001b[0m\u001b[0;34m.\u001b[0m\u001b[0mSession\u001b[0m\u001b[0;34m(\u001b[0m\u001b[0;34m)\u001b[0m \u001b[0;32mas\u001b[0m \u001b[0msess\u001b[0m\u001b[0;34m:\u001b[0m \u001b[0;31m# chargement des noeuds, évaluation du gradient et affichage\u001b[0m\u001b[0;34m\u001b[0m\u001b[0;34m\u001b[0m\u001b[0m\n\u001b[1;32m      3\u001b[0m     \u001b[0minit\u001b[0m\u001b[0;34m.\u001b[0m\u001b[0mrun\u001b[0m\u001b[0;34m\u001b[0m\u001b[0;34m\u001b[0m\u001b[0m\n\u001b[1;32m      4\u001b[0m     \u001b[0mprint\u001b[0m\u001b[0;34m(\u001b[0m\u001b[0msess\u001b[0m\u001b[0;34m.\u001b[0m\u001b[0mrun\u001b[0m\u001b[0;34m(\u001b[0m\u001b[0mgrads\u001b[0m\u001b[0;34m)\u001b[0m\u001b[0;34m)\u001b[0m\u001b[0;34m\u001b[0m\u001b[0;34m\u001b[0m\u001b[0m\n",
      "\u001b[0;31mNameError\u001b[0m: name 'operation' is not defined"
     ]
    }
   ],
   "source": [
    "grads = tf.gradients(operation, [x, y])   # noeud gradient calculé automatiquement\n",
    "with tf.Session() as sess: # chargement des noeuds, évaluation du gradient et affichage\n",
    "    init.run\n",
    "    print(sess.run(grads))"
   ]
  },
  {
   "cell_type": "markdown",
   "metadata": {},
   "source": [
    "### Optimizer : Prend un noeud opération, un taux d'apprentissage et les paramètres"
   ]
  },
  {
   "cell_type": "code",
   "execution_count": null,
   "metadata": {
    "collapsed": true
   },
   "outputs": [],
   "source": [
    "optimizer = tf.train.GradientDescentOptimizer(learning_rate=learning_rate) #optimizer\n",
    "training_op = optimizer.minimize(mse) #Creer automatiquement un noeud tf.assign(theta, newtheta obtenu par un step de descente)\n",
    "#optimizer.minimize(loss, var_list=[your variables] pour optimisé partiellement                \n",
    "                   "
   ]
  },
  {
   "cell_type": "markdown",
   "metadata": {},
   "source": [
    "### Exemple d'optimisation automatique, avec minibatch_GD et tf.placeholder"
   ]
  },
  {
   "cell_type": "code",
   "execution_count": 187,
   "metadata": {
    "scrolled": true
   },
   "outputs": [
    {
     "name": "stderr",
     "output_type": "stream",
     "text": [
      "/anaconda3/lib/python3.6/site-packages/sklearn/utils/validation.py:475: DataConversionWarning: Data with input dtype int64 was converted to float64 by StandardScaler.\n",
      "  warnings.warn(msg, DataConversionWarning)\n"
     ]
    },
    {
     "name": "stdout",
     "output_type": "stream",
     "text": [
      "Epoch 100 MSE = 0.003310489\n",
      "Epoch 200 MSE = 0.0024482566\n",
      "Epoch 300 MSE = 0.0018114157\n",
      "Epoch 400 MSE = 0.0013402352\n",
      "Epoch 500 MSE = 0.0009916241\n",
      "Epoch 600 MSE = 0.00073373225\n",
      "Epoch 700 MSE = 0.00054289843\n",
      "Epoch 800 MSE = 0.00040172494\n",
      "Epoch 900 MSE = 0.0002972708\n",
      "Epoch 1000 MSE = 0.0002199852\n"
     ]
    },
    {
     "data": {
      "text/plain": [
       "array([[3.7499948],\n",
       "       [2.0337503],\n",
       "       [4.7247443],\n",
       "       [2.3710353]], dtype=float32)"
      ]
     },
     "execution_count": 187,
     "metadata": {},
     "output_type": "execute_result"
    }
   ],
   "source": [
    "reset_graph()\n",
    "n_epochs=1000\n",
    "m,p=4,4\n",
    "\n",
    "data=np.array([[1,2,3],[4,1,1],[2,-5,-6],[10,2,-6]])\n",
    "from sklearn.preprocessing import StandardScaler\n",
    "scaler = StandardScaler()\n",
    "X = scaler.fit_transform(data)\n",
    "X_=np.hstack((np.ones((4,1)),X))\n",
    "Y_=np.array([[8,7,-8,8]]).reshape(-1,1)\n",
    "\n",
    "eta=tf.placeholder(dtype=tf.float32,name='eta')\n",
    "Xtrain=tf.placeholder(shape=(None,p),dtype=tf.float32,name='Xtrain')\n",
    "Ytrain=tf.placeholder( shape=(None,1),dtype=tf.float32,name='Ytrain')\n",
    "theta = tf.Variable(tf.random_uniform([p, 1], -1.0, 1.0, seed=42), name=\"theta\")\n",
    "ypred=Xtrain@theta\n",
    "mse=tf.reduce_mean(tf.square(ypred-Ytrain))\n",
    "optimizer = tf.train.GradientDescentOptimizer(learning_rate=eta)\n",
    "training_op = optimizer.minimize(mse)\n",
    "\n",
    "init=tf.global_variables_initializer()\n",
    "with tf.Session() as sess:\n",
    "    sess.run(init)\n",
    "    for epochs in range(1,n_epochs+1):\n",
    "        for j in range(m):\n",
    "            ind=np.random.randint(0,m)\n",
    "            sess.run(training_op,feed_dict={Xtrain: X_, Ytrain:Y_, eta:0.01 })\n",
    "        if epochs % 100 == 0:\n",
    "            print(\"Epoch\", epochs, \"MSE =\", mse.eval(feed_dict={Xtrain: X_, Ytrain:Y_, eta:0.01})) \n",
    "    best_theta=theta.eval()\n",
    "        \n",
    "best_theta   "
   ]
  },
  {
   "cell_type": "markdown",
   "metadata": {},
   "source": [
    "### Mini projet tensorflow: Regression logistique avec mini batch gradient descent"
   ]
  },
  {
   "cell_type": "code",
   "execution_count": 229,
   "metadata": {
    "collapsed": true
   },
   "outputs": [],
   "source": [
    "from sklearn.datasets import make_moons\n",
    "m = 1000\n",
    "X_moons, y_moons = make_moons(m, noise=0.1, random_state=42)"
   ]
  },
  {
   "cell_type": "code",
   "execution_count": 231,
   "metadata": {
    "collapsed": true
   },
   "outputs": [],
   "source": [
    "X_moons_with_bias = np.c_[np.ones((m, 1)), X_moons]\n",
    "y_moons_column_vector=y_moons.reshape(-1,1)\n",
    "m,p=X_moons_with_bias.shape"
   ]
  },
  {
   "cell_type": "code",
   "execution_count": 240,
   "metadata": {},
   "outputs": [
    {
     "data": {
      "text/plain": [
       "0.5"
      ]
     },
     "execution_count": 240,
     "metadata": {},
     "output_type": "execute_result"
    }
   ],
   "source": [
    "y_moons.mean() #balanced classes"
   ]
  },
  {
   "cell_type": "code",
   "execution_count": 232,
   "metadata": {
    "collapsed": true
   },
   "outputs": [],
   "source": [
    "test_ratio = 0.2\n",
    "test_size = int(m * test_ratio)\n",
    "X_train = X_moons_with_bias[:-test_size]\n",
    "X_test = X_moons_with_bias[-test_size:]\n",
    "y_train = y_moons_column_vector[:-test_size]\n",
    "y_test = y_moons_column_vector[-test_size:]"
   ]
  },
  {
   "cell_type": "code",
   "execution_count": 13,
   "metadata": {
    "collapsed": true
   },
   "outputs": [],
   "source": [
    "import matplotlib\n",
    "import matplotlib.pyplot as plt"
   ]
  },
  {
   "cell_type": "code",
   "execution_count": 233,
   "metadata": {},
   "outputs": [
    {
     "data": {
      "image/png": "[encoded data removed]",
      "text/plain": [
       "<Figure size 432x288 with 1 Axes>"
      ]
     },
     "metadata": {},
     "output_type": "display_data"
    }
   ],
   "source": [
    "plt.plot(X_moons[y_moons == 1, 0], X_moons[y_moons == 1, 1], 'go', label=\"Positive\",markeredgecolor='black',markeredgewidth=0.8)\n",
    "plt.plot(X_moons[y_moons == 0, 0], X_moons[y_moons == 0, 1], 'r^', label=\"Negative\",markeredgecolor='black',markeredgewidth=0.8)\n",
    "plt.legend()\n",
    "plt.show()"
   ]
  },
  {
   "cell_type": "code",
   "execution_count": 234,
   "metadata": {
    "collapsed": true
   },
   "outputs": [],
   "source": [
    "def random_batch(X_train, y_train, batch_size):\n",
    "    rnd_indices = np.random.randint(0, len(X_train), batch_size)\n",
    "    X_batch = X_train[rnd_indices]\n",
    "    y_batch = y_train[rnd_indices]\n",
    "    return X_batch, y_batch"
   ]
  },
  {
   "cell_type": "code",
   "execution_count": 236,
   "metadata": {},
   "outputs": [
    {
     "name": "stdout",
     "output_type": "stream",
     "text": [
      "Epoch: 0 \tLoss: 0.6797846\n",
      "Epoch: 100 \tLoss: 0.2807418\n",
      "Epoch: 200 \tLoss: 0.27353343\n",
      "Epoch: 300 \tLoss: 0.27416\n",
      "Epoch: 400 \tLoss: 0.27495274\n",
      "Epoch: 500 \tLoss: 0.27323437\n",
      "Epoch: 600 \tLoss: 0.27365535\n",
      "Epoch: 700 \tLoss: 0.27368817\n",
      "Epoch: 800 \tLoss: 0.27443746\n",
      "Epoch: 900 \tLoss: 0.27444485\n"
     ]
    },
    {
     "data": {
      "text/plain": [
       "0.045"
      ]
     },
     "execution_count": 236,
     "metadata": {},
     "output_type": "execute_result"
    }
   ],
   "source": [
    "reset_graph()\n",
    "X = tf.placeholder(tf.float32, shape=(None, 3))\n",
    "y = tf.placeholder(tf.float32, shape=(None, 1))\n",
    "theta = tf.Variable(tf.random_uniform([3, 1], -1.0, 1.0, seed=42))\n",
    "logits = X@theta\n",
    "y_proba = tf.sigmoid(logits)\n",
    "loss = tf.losses.log_loss(y, y_proba) \n",
    "optimizer = tf.train.GradientDescentOptimizer(learning_rate=0.01)\n",
    "training_op = optimizer.minimize(loss)\n",
    "\n",
    "init = tf.global_variables_initializer()\n",
    "batch_size=10\n",
    "with tf.Session() as sess:\n",
    "    sess.run(init)\n",
    "    for epoch in range(n_epochs):\n",
    "        for j in range(int(np.ceil(m/batch_size))):\n",
    "            X_batch, y_batch = random_batch(X_train, y_train, batch_size)\n",
    "            sess.run(training_op, feed_dict={X:X_batch,y:y_batch})\n",
    "        loss_val = loss.eval({X: X_test, y: y_test})\n",
    "        if epoch % 100 == 0:\n",
    "            print(\"Epoch:\", epoch, \"\\tLoss:\", loss_val)\n",
    "    y_proba_val = y_proba.eval(feed_dict={X: X_test, y: y_test})\n",
    "    y_pred=(y_proba_val>=0.5)\n",
    "np.mean(y_pred-y_test)"
   ]
  },
  {
   "cell_type": "code",
   "execution_count": 249,
   "metadata": {},
   "outputs": [
    {
     "name": "stdout",
     "output_type": "stream",
     "text": [
      "Accuracy= 0.875\n",
      "Confusion Matrix: \n",
      " [[84 17]\n",
      " [ 8 91]]\n"
     ]
    }
   ],
   "source": [
    "from sklearn.metrics import confusion_matrix as cf_matrix\n",
    "print('Accuracy=',1-np.mean(np.abs(y_pred-y_test)))\n",
    "print('Confusion Matrix: \\n',cf_matrix(y_test, y_pred))"
   ]
  },
  {
   "cell_type": "code",
   "execution_count": 257,
   "metadata": {},
   "outputs": [
    {
     "name": "stdout",
     "output_type": "stream",
     "text": [
      "Confusion matrix\n",
      "[[84 17]\n",
      " [ 8 91]]\n"
     ]
    },
    {
     "data": {
      "image/png": "[encoded data removed]",
      "text/plain": [
       "<Figure size 432x288 with 2 Axes>"
      ]
     },
     "metadata": {},
     "output_type": "display_data"
    }
   ],
   "source": [
    "def plot_confusion_matrix(y_true, y_pred,\n",
    "                          normalize=False,\n",
    "                          title='Confusion Matrix',\n",
    "                          cmap=plt.cm.Blues):\n",
    "    \"\"\"\n",
    "    This function prints and plots the confusion matrix.\n",
    "    Normalization can be applied by setting `normalize=True`.\n",
    "    \"\"\"\n",
    "\n",
    "\n",
    "    # Compute confusion matrix\n",
    "    cm = cf_matrix(y_true, y_pred)\n",
    "    # Only use the labels that appear in the data\n",
    "    \n",
    "    print('Confusion matrix')\n",
    "    print(cm)\n",
    "\n",
    "    fig, ax = plt.subplots()\n",
    "    im = ax.imshow(cm, interpolation='nearest', cmap=cmap)\n",
    "    ax.figure.colorbar(im, ax=ax)\n",
    "    # We want to show all ticks...\n",
    "    ax.set(xticks=np.arange(cm.shape[1]),\n",
    "           yticks=np.arange(cm.shape[0]),\n",
    "           # ... and label them with the respective list entries\n",
    "           title=title,\n",
    "           ylabel='True label',\n",
    "           xlabel='Predicted label')\n",
    "\n",
    "    # Rotate the tick labels and set their alignment.\n",
    "    plt.setp(ax.get_xticklabels(), rotation=45, ha=\"right\",\n",
    "             rotation_mode=\"anchor\")\n",
    "\n",
    "    # Loop over data dimensions and create text annotations.\n",
    "    fmt = '.2f' if normalize else 'd'\n",
    "    thresh = cm.max() / 2.\n",
    "    for i in range(cm.shape[0]):\n",
    "        for j in range(cm.shape[1]):\n",
    "            ax.text(j, i, format(cm[i, j], fmt),\n",
    "                    ha=\"center\", va=\"center\",\n",
    "                    color=\"white\" if cm[i, j] > thresh else \"black\")\n",
    "    fig.tight_layout()\n",
    "    return ax\n",
    "\n",
    "plot_confusion_matrix(y_test,y_pred)\n",
    "plt.show()"
   ]
  },
  {
   "cell_type": "markdown",
   "metadata": {},
   "source": [
    "- LTU : Couche d'entrée, fonction de pondération sigma, fonction échelon, une sortie. C'est un classificateur linéaire et binaire (ex= régression logistique) <br>\n",
    "- PERCEPTRON = Une couche fully connected de LTU, fonction d'échelon heavside (0 si negatif, 1 sinon). C'est un classificateur linéaire multi-sorties\n"
   ]
  },
  {
   "cell_type": "markdown",
   "metadata": {},
   "source": [
    "### KERAS"
   ]
  },
  {
   "cell_type": "code",
   "execution_count": 2,
   "metadata": {
    "collapsed": true
   },
   "outputs": [],
   "source": [
    "import numpy as np\n",
    "from sklearn.datasets import load_iris\n",
    "from sklearn.linear_model import Perceptron\n",
    "\n",
    "iris = load_iris()\n",
    "X = iris.data[:, (2, 3)]  # petal length, petal width\n",
    "y = (iris.target == 0).astype(np.int)"
   ]
  },
  {
   "cell_type": "markdown",
   "metadata": {},
   "source": [
    "#### Activation function"
   ]
  },
  {
   "cell_type": "code",
   "execution_count": 3,
   "metadata": {
    "collapsed": true
   },
   "outputs": [],
   "source": [
    "def sigmoid(z):\n",
    "    return 1 / (1 + np.exp(-z))\n",
    "\n",
    "def relu(z):\n",
    "    return np.maximum(0, z)\n",
    "\n",
    "def heaviside(z):\n",
    "    return (z >= 0).astype(z.dtype)"
   ]
  },
  {
   "cell_type": "code",
   "execution_count": 7,
   "metadata": {
    "collapsed": true
   },
   "outputs": [],
   "source": [
    "import tensorflow as tf\n",
    "from tensorflow import keras as keras"
   ]
  },
  {
   "cell_type": "code",
   "execution_count": 8,
   "metadata": {},
   "outputs": [
    {
     "data": {
      "text/plain": [
       "'1.13.1'"
      ]
     },
     "execution_count": 8,
     "metadata": {},
     "output_type": "execute_result"
    }
   ],
   "source": [
    "tf.__version__"
   ]
  },
  {
   "cell_type": "code",
   "execution_count": 28,
   "metadata": {
    "collapsed": true
   },
   "outputs": [],
   "source": [
    "fashion_mnist = keras.datasets.mnist\n",
    "(X_train_full, y_train_full), (X_test, y_test) = fashion_mnist.load_data()"
   ]
  },
  {
   "cell_type": "code",
   "execution_count": 29,
   "metadata": {},
   "outputs": [
    {
     "data": {
      "text/plain": [
       "(60000, 28, 28)"
      ]
     },
     "execution_count": 29,
     "metadata": {},
     "output_type": "execute_result"
    }
   ],
   "source": [
    "X_train_full.shape"
   ]
  },
  {
   "cell_type": "code",
   "execution_count": 70,
   "metadata": {},
   "outputs": [
    {
     "data": {
      "text/plain": [
       "(10000, 28, 28)"
      ]
     },
     "execution_count": 70,
     "metadata": {},
     "output_type": "execute_result"
    }
   ],
   "source": [
    "X_test.shape"
   ]
  },
  {
   "cell_type": "code",
   "execution_count": 30,
   "metadata": {
    "collapsed": true
   },
   "outputs": [],
   "source": [
    "X_valid, X_train = X_train_full[:5000] / 255., X_train_full[5000:] / 255.\n",
    "y_valid, y_train = y_train_full[:5000], y_train_full[5000:]\n",
    "X_test = X_test / 255."
   ]
  },
  {
   "cell_type": "code",
   "execution_count": 32,
   "metadata": {},
   "outputs": [
    {
     "data": {
      "image/png": "[encoded data removed]",
      "text/plain": [
       "<Figure size 432x288 with 1 Axes>"
      ]
     },
     "metadata": {},
     "output_type": "display_data"
    }
   ],
   "source": [
    "plt.imshow(X_train[10], cmap=\"binary\")\n",
    "plt.axis('off')\n",
    "plt.show()\n",
    "class_names = [\"T-shirt/top\", \"Trouser\", \"Pullover\", \"Dress\", \"Coat\",\n",
    "               \"Sandal\", \"Shirt\", \"Sneaker\", \"Bag\", \"Ankle boot\"]"
   ]
  },
  {
   "cell_type": "code",
   "execution_count": 33,
   "metadata": {
    "collapsed": true
   },
   "outputs": [],
   "source": [
    "model = keras.models.Sequential()\n",
    "model.add(keras.layers.Flatten(input_shape=[28, 28]))\n",
    "model.add(keras.layers.Dense(1000, activation=\"relu\"))\n",
    "model.add(keras.layers.Dense(700, activation=\"relu\"))\n",
    "model.add(keras.layers.Dense(500, activation=\"relu\"))\n",
    "model.add(keras.layers.Dense(300, activation=\"sigmoid\"))\n",
    "model.add(keras.layers.Dense(200, activation=\"relu\"))\n",
    "model.add(keras.layers.Dense(10, activation=\"softmax\"))"
   ]
  },
  {
   "cell_type": "code",
   "execution_count": 34,
   "metadata": {},
   "outputs": [
    {
     "name": "stdout",
     "output_type": "stream",
     "text": [
      "_________________________________________________________________\n",
      "Layer (type)                 Output Shape              Param #   \n",
      "=================================================================\n",
      "flatten_4 (Flatten)          (None, 784)               0         \n",
      "_________________________________________________________________\n",
      "dense_20 (Dense)             (None, 1000)              785000    \n",
      "_________________________________________________________________\n",
      "dense_21 (Dense)             (None, 700)               700700    \n",
      "_________________________________________________________________\n",
      "dense_22 (Dense)             (None, 500)               350500    \n",
      "_________________________________________________________________\n",
      "dense_23 (Dense)             (None, 300)               150300    \n",
      "_________________________________________________________________\n",
      "dense_24 (Dense)             (None, 200)               60200     \n",
      "_________________________________________________________________\n",
      "dense_25 (Dense)             (None, 10)                2010      \n",
      "=================================================================\n",
      "Total params: 2,048,710\n",
      "Trainable params: 2,048,710\n",
      "Non-trainable params: 0\n",
      "_________________________________________________________________\n"
     ]
    }
   ],
   "source": [
    "model.summary()"
   ]
  },
  {
   "cell_type": "code",
   "execution_count": 35,
   "metadata": {
    "scrolled": false
   },
   "outputs": [
    {
     "name": "stdout",
     "output_type": "stream",
     "text": [
      "Train on 55000 samples, validate on 5000 samples\n",
      "Epoch 1/100\n",
      "55000/55000 [==============================] - 40s 735us/sample - loss: 1.2290 - acc: 0.6454 - val_loss: 0.4051 - val_acc: 0.8868\n",
      "Epoch 2/100\n",
      "55000/55000 [==============================] - 41s 743us/sample - loss: 0.3361 - acc: 0.9024 - val_loss: 0.2558 - val_acc: 0.9276\n",
      "Epoch 3/100\n",
      "55000/55000 [==============================] - 46s 833us/sample - loss: 0.2437 - acc: 0.9281 - val_loss: 0.2089 - val_acc: 0.9402\n",
      "Epoch 4/100\n",
      "55000/55000 [==============================] - 44s 798us/sample - loss: 0.1906 - acc: 0.9443 - val_loss: 0.1653 - val_acc: 0.9510\n",
      "Epoch 5/100\n",
      "55000/55000 [==============================] - 46s 833us/sample - loss: 0.1544 - acc: 0.9542 - val_loss: 0.1524 - val_acc: 0.9566\n",
      "Epoch 6/100\n",
      "55000/55000 [==============================] - 37s 678us/sample - loss: 0.1293 - acc: 0.9616 - val_loss: 0.1223 - val_acc: 0.9666\n",
      "Epoch 7/100\n",
      "55000/55000 [==============================] - 40s 726us/sample - loss: 0.1098 - acc: 0.9674 - val_loss: 0.1138 - val_acc: 0.9674\n",
      "Epoch 8/100\n",
      "55000/55000 [==============================] - 38s 683us/sample - loss: 0.0947 - acc: 0.9721 - val_loss: 0.1080 - val_acc: 0.9708\n",
      "Epoch 9/100\n",
      "55000/55000 [==============================] - 36s 646us/sample - loss: 0.0815 - acc: 0.9761 - val_loss: 0.0940 - val_acc: 0.9748\n",
      "Epoch 10/100\n",
      "55000/55000 [==============================] - 35s 644us/sample - loss: 0.0705 - acc: 0.9796 - val_loss: 0.1084 - val_acc: 0.9698\n",
      "Epoch 11/100\n",
      "55000/55000 [==============================] - 36s 649us/sample - loss: 0.0618 - acc: 0.9823 - val_loss: 0.0851 - val_acc: 0.9760\n",
      "Epoch 12/100\n",
      "55000/55000 [==============================] - 35s 644us/sample - loss: 0.0533 - acc: 0.9844 - val_loss: 0.0934 - val_acc: 0.9734\n",
      "Epoch 13/100\n",
      "55000/55000 [==============================] - 36s 646us/sample - loss: 0.0462 - acc: 0.9871 - val_loss: 0.0843 - val_acc: 0.9778\n",
      "Epoch 14/100\n",
      "55000/55000 [==============================] - 40s 722us/sample - loss: 0.0403 - acc: 0.9884 - val_loss: 0.0778 - val_acc: 0.9780\n",
      "Epoch 15/100\n",
      "55000/55000 [==============================] - 37s 677us/sample - loss: 0.0343 - acc: 0.9909 - val_loss: 0.0778 - val_acc: 0.9786\n",
      "Epoch 16/100\n",
      "55000/55000 [==============================] - 37s 667us/sample - loss: 0.0296 - acc: 0.9921 - val_loss: 0.0789 - val_acc: 0.9770\n",
      "Epoch 17/100\n",
      "55000/55000 [==============================] - 36s 656us/sample - loss: 0.0257 - acc: 0.9935 - val_loss: 0.0806 - val_acc: 0.9770\n",
      "Epoch 18/100\n",
      "55000/55000 [==============================] - 36s 659us/sample - loss: 0.0217 - acc: 0.9948 - val_loss: 0.0774 - val_acc: 0.9792\n",
      "Epoch 19/100\n",
      "55000/55000 [==============================] - 36s 658us/sample - loss: 0.0182 - acc: 0.9962 - val_loss: 0.0776 - val_acc: 0.9784\n",
      "Epoch 20/100\n",
      "55000/55000 [==============================] - 36s 662us/sample - loss: 0.0156 - acc: 0.9968 - val_loss: 0.0780 - val_acc: 0.9798\n",
      "Epoch 21/100\n",
      "55000/55000 [==============================] - 37s 665us/sample - loss: 0.0129 - acc: 0.9978 - val_loss: 0.0752 - val_acc: 0.9794\n",
      "Epoch 22/100\n",
      "55000/55000 [==============================] - 36s 654us/sample - loss: 0.0108 - acc: 0.9983 - val_loss: 0.0752 - val_acc: 0.9790\n",
      "Epoch 23/100\n",
      "55000/55000 [==============================] - 36s 662us/sample - loss: 0.0092 - acc: 0.9988 - val_loss: 0.0737 - val_acc: 0.9812\n",
      "Epoch 24/100\n",
      "55000/55000 [==============================] - 36s 661us/sample - loss: 0.0075 - acc: 0.9991 - val_loss: 0.0754 - val_acc: 0.9800\n",
      "Epoch 25/100\n",
      "55000/55000 [==============================] - 37s 678us/sample - loss: 0.0063 - acc: 0.9995 - val_loss: 0.0779 - val_acc: 0.9802\n",
      "Epoch 26/100\n",
      "55000/55000 [==============================] - 38s 682us/sample - loss: 0.0056 - acc: 0.9994 - val_loss: 0.0813 - val_acc: 0.9782\n",
      "Epoch 27/100\n",
      "55000/55000 [==============================] - 38s 689us/sample - loss: 0.0049 - acc: 0.9996 - val_loss: 0.0790 - val_acc: 0.9810\n",
      "Epoch 28/100\n",
      "55000/55000 [==============================] - 39s 710us/sample - loss: 0.0041 - acc: 0.9998 - val_loss: 0.0789 - val_acc: 0.9800\n",
      "Epoch 29/100\n",
      "55000/55000 [==============================] - 42s 768us/sample - loss: 0.0036 - acc: 0.9999 - val_loss: 0.0787 - val_acc: 0.9808\n",
      "Epoch 30/100\n",
      "55000/55000 [==============================] - 42s 765us/sample - loss: 0.0033 - acc: 0.9999 - val_loss: 0.0906 - val_acc: 0.9794\n",
      "Epoch 31/100\n",
      "55000/55000 [==============================] - 44s 802us/sample - loss: 0.0030 - acc: 0.9999 - val_loss: 0.0793 - val_acc: 0.9796\n",
      "Epoch 32/100\n",
      "55000/55000 [==============================] - 45s 820us/sample - loss: 0.0027 - acc: 0.9999 - val_loss: 0.0807 - val_acc: 0.9810\n",
      "Epoch 33/100\n",
      "55000/55000 [==============================] - 44s 800us/sample - loss: 0.0024 - acc: 1.0000 - val_loss: 0.0819 - val_acc: 0.9806\n"
     ]
    }
   ],
   "source": [
    "model.compile(loss=\"sparse_categorical_crossentropy\",\n",
    "              optimizer=\"sgd\",\n",
    "              metrics=[\"accuracy\"])\n",
    "\n",
    "checkpoint_cb = keras.callbacks.ModelCheckpoint(\"my_keras_model.h5\", save_best_only=True)\n",
    "early_stopping_cb = keras.callbacks.EarlyStopping(patience=10,restore_best_weights=True)\n",
    "#patience: Number of epochs with no improvement of validation error after which training will be stopped.\n",
    "history = model.fit(X_train, y_train, epochs=100,\n",
    "                    validation_data=(X_valid, y_valid),\n",
    "                    callbacks=[checkpoint_cb, early_stopping_cb])\n",
    "#mse_test = model.evaluate(X_test, y_test)\n",
    "#model.predict(X_new)"
   ]
  },
  {
   "cell_type": "code",
   "execution_count": 37,
   "metadata": {},
   "outputs": [
    {
     "name": "stdout",
     "output_type": "stream",
     "text": [
      "10000/10000 [==============================] - 2s 196us/sample - loss: 0.0735 - acc: 0.9787\n",
      "['loss', 'acc']\n",
      "[0.0735447860366141, 0.9787]\n"
     ]
    }
   ],
   "source": [
    "mse_test = model.evaluate(X_test, y_test)\n",
    "print(model.metrics_names)\n",
    "print(mse_test)"
   ]
  },
  {
   "cell_type": "code",
   "execution_count": 41,
   "metadata": {},
   "outputs": [
    {
     "data": {
      "text/plain": [
       "[1.2289818787748163,\n",
       " 0.3361481820886785,\n",
       " 0.24370807066397235,\n",
       " 0.19058021561449223,\n",
       " 0.15444369955604725,\n",
       " 0.12934984085532752,\n",
       " 0.10981069380153309,\n",
       " 0.09467873667803678,\n",
       " 0.08152006162350828,\n",
       " 0.07048854851722718,\n",
       " 0.061761266964809464,\n",
       " 0.05333907971930775,\n",
       " 0.04621410681652752,\n",
       " 0.04025457199351354,\n",
       " 0.034317263973775235,\n",
       " 0.029638962281326002,\n",
       " 0.025679782439082522,\n",
       " 0.021666596813195133,\n",
       " 0.018222468571940605,\n",
       " 0.015578358244252476,\n",
       " 0.012923618016967718,\n",
       " 0.010825199411335317,\n",
       " 0.00921075940754434,\n",
       " 0.007539569661186331,\n",
       " 0.006320903885360299,\n",
       " 0.005608742242010141,\n",
       " 0.004877404864107005,\n",
       " 0.004074402227309871,\n",
       " 0.0035850410141347144,\n",
       " 0.0033010373173006386,\n",
       " 0.0029856474583566358,\n",
       " 0.002672448506440163,\n",
       " 0.0023680193391670897]"
      ]
     },
     "execution_count": 41,
     "metadata": {},
     "output_type": "execute_result"
    }
   ],
   "source": [
    "history.history['loss']"
   ]
  },
  {
   "cell_type": "code",
   "execution_count": 68,
   "metadata": {},
   "outputs": [
    {
     "data": {
      "image/png": "[encoded data removed]",
      "text/plain": [
       "<Figure size 576x360 with 1 Axes>"
      ]
     },
     "metadata": {},
     "output_type": "display_data"
    }
   ],
   "source": [
    "import pandas as pd\n",
    "\n",
    "A=pd.DataFrame(history.history).drop(['val_acc','acc'],axis=1)\n",
    "A.plot(figsize=(8, 5))\n",
    "plt.grid(True)\n",
    "plt.gca().set_ylim(0, 1)\n",
    "plt.show()"
   ]
  },
  {
   "cell_type": "code",
   "execution_count": null,
   "metadata": {
    "collapsed": true
   },
   "outputs": [],
   "source": [
    "model.save(\"my_keras_model.h5\")\n",
    "model = keras.models.load_model(\"my_keras_model.h5\")\n",
    "model.save_weights(\"my_keras_weights.ckpt\")\n",
    "model.load_weights(\"my_keras_weights.ckpt\")"
   ]
  }
 ],
 "metadata": {
  "kernelspec": {
   "display_name": "Python 3",
   "language": "python",
   "name": "python3"
  },
  "language_info": {
   "codemirror_mode": {
    "name": "ipython",
    "version": 3
   },
   "file_extension": ".py",
   "mimetype": "text/x-python",
   "name": "python",
   "nbconvert_exporter": "python",
   "pygments_lexer": "ipython3",
   "version": "3.6.8"
  }
 },
 "nbformat": 4,
 "nbformat_minor": 2
}
